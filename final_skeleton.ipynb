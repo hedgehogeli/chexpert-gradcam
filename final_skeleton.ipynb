{
 "cells": [
  {
   "cell_type": "markdown",
   "id": "57b8b4e5-7bc8-4129-848d-2d811ff3f256",
   "metadata": {},
   "source": [
    "# TITLE\n",
    "##### Edward Li\n",
    "##### e84li@uwaterloo.ca"
   ]
  },
  {
   "cell_type": "markdown",
   "id": "e38800f5-67bc-4ed3-b9ea-423094492ca6",
   "metadata": {},
   "source": [
    "## Abstract\n",
    "\n",
    "separate cell with a concise two-three paragraph abstract outlining the high-level goal and discussing well-motivated methodology of the project"
   ]
  },
  {
   "cell_type": "markdown",
   "id": "c4ce1715-dbac-4ce6-898b-869025fd1694",
   "metadata": {},
   "source": [
    "## Contributions\n",
    "\n",
    "Solo project, all work done alone."
   ]
  },
  {
   "cell_type": "markdown",
   "id": "8954f0b6-6ba1-4303-b0b9-29b9d7c534a0",
   "metadata": {},
   "source": [
    "## External code libraries\n",
    "separate cell titled code libraries acknowledging all external code libraries \"essential\" for your project.\n",
    "You should explain the importance of each such library for your project. If these libraries are not installed with the default anaconda package, provide installation instructions/links or include the necessary files in extlibs subdirectory.\n",
    "\n",
    "## Included .py files\n",
    "If needed, for better organization and clarity of your project you can write your own code libraries that should be summarized in this section as well. The corresponding (.py) files should be included in **mylibs** subdirectory."
   ]
  },
  {
   "cell_type": "markdown",
   "id": "db95b1d6-3ce4-4868-8c56-8c13203db8d8",
   "metadata": {},
   "source": [
    "\n",
    "\n",
    "\n",
    "It is recommended that you structure different parts of your notebook in a logical sequence. The parts should have clear names/titles and include a mix of conceptual/theoretical sections explaning motivation, code cells, discussions, visual results, etc. \n",
    "\n",
    "The evaluation criteria inlcude \n",
    "- soundness of the insights and algorithms,\n",
    "- efficiency of your implementation,\n",
    "- meaningfulness and comprehensiveness of evaluation,\n",
    "- as well as clarity. (Keep in mind that significant portion of your project mark will be based on the clarity of your report, including the description of your methodololy and organization of your experiments. )\n",
    "\n",
    "- The methodology should be clearly motivated.\n",
    "- The good quality of the results is desirable, but not a must. if not good, then conclude why with actual explanation, and how to fix (and why)\n"
   ]
  },
  {
   "cell_type": "markdown",
   "id": "f5de5a3b-266f-4316-a6fd-d36d5fc29190",
   "metadata": {},
   "source": [
    "# 1. IMPLEMENTING A CAM"
   ]
  },
  {
   "cell_type": "markdown",
   "id": "317055b1-2206-49e9-9e41-4e19b3d11301",
   "metadata": {},
   "source": [
    "## 1.a. Grad-CAM\n",
    "**\"First, you should implement some standard method for CAM for some (simple) classification network trained on image-level tags\"**\n",
    "\n",
    "what is gradcam?\n",
    "cite paper\n",
    "\n",
    "it extends CAM (cam is a case of gradcam)\n",
    "cite paper\n",
    "\n",
    "what's the math?"
   ]
  },
  {
   "cell_type": "code",
   "execution_count": 1,
   "id": "b3542151-1bd3-4d61-9271-266ab5d4c262",
   "metadata": {},
   "outputs": [],
   "source": [
    "# shove a resnet50, then display the heatmap on some random images from internet\n",
    "# do an img w >= 2 things and HM for both"
   ]
  },
  {
   "cell_type": "markdown",
   "id": "d82845cc-69aa-4100-a950-2b6803d6c58e",
   "metadata": {},
   "source": [
    "## 1.b. Deriving spatial information from CAM\n",
    "**\"You should also obtain object detection (spacial localization of the object approximate \"center\")\"**\n",
    "\n",
    "i think i should cite the CAM paper Learning Deep Features for Discriminative Localization"
   ]
  },
  {
   "cell_type": "code",
   "execution_count": null,
   "id": "d039c337-bf82-4797-8259-54c164c49ef9",
   "metadata": {},
   "outputs": [],
   "source": []
  },
  {
   "cell_type": "markdown",
   "id": "05fea211-03a5-4db1-a66e-1330550da394",
   "metadata": {},
   "source": [
    "### 1.b.i. bounding box"
   ]
  },
  {
   "cell_type": "code",
   "execution_count": null,
   "id": "002b2127-0838-4bb9-bc91-db7f89be0824",
   "metadata": {},
   "outputs": [],
   "source": []
  },
  {
   "cell_type": "markdown",
   "id": "95ea2a26-1770-4d82-8864-18fa70063dcf",
   "metadata": {},
   "source": [
    "### 1.b.ii approximate center point"
   ]
  },
  {
   "cell_type": "code",
   "execution_count": null,
   "id": "aa3dfeae-151b-4652-8340-825333f317fa",
   "metadata": {},
   "outputs": [],
   "source": []
  },
  {
   "cell_type": "markdown",
   "id": "4ce04194-5056-403f-89ed-b13af6408895",
   "metadata": {},
   "source": [
    "## 1.c. Application to chest X-rays\n",
    "**\"You should apply your approach to one specific object type (e.g. faces, or anything else). Training should be done on image-level tags (e.g. face, no face). You can come up with your specialized dataset, but feel free to use subsets of standard data.\"**\n",
    "\n",
    "specifically application to chexpert dataset, describe it here\n",
    "cite the paper and shit\n",
    "https://arxiv.org/abs/1901.07031\n",
    "https://github.com/rajpurkarlab/cheXpert-test-set-labels test dataset\n",
    "and also where the trainset came from\n",
    "\n",
    "\n",
    "we can specifically look at cardiomegaly and support devices (this can change)\n",
    "cardio megaly is _ \n",
    "support devices are _"
   ]
  },
  {
   "cell_type": "markdown",
   "id": "5428afbf-d2b0-41d4-b5b3-beedcb8f198b",
   "metadata": {},
   "source": [
    "grab some random chest xrays from online and run it thru the model"
   ]
  },
  {
   "cell_type": "code",
   "execution_count": null,
   "id": "0afbc097-63a1-4b45-b1fe-b31213be1ce1",
   "metadata": {},
   "outputs": [],
   "source": []
  },
  {
   "cell_type": "code",
   "execution_count": null,
   "id": "60d38ef8-5be5-4716-a891-e558776d771c",
   "metadata": {},
   "outputs": [],
   "source": []
  },
  {
   "cell_type": "code",
   "execution_count": null,
   "id": "14268473-dd13-4dc9-ab09-e9a0ed3a655c",
   "metadata": {},
   "outputs": [],
   "source": []
  },
  {
   "cell_type": "code",
   "execution_count": null,
   "id": "4da20f5d-a8fb-4996-8389-535820cbb72a",
   "metadata": {},
   "outputs": [],
   "source": []
  },
  {
   "cell_type": "code",
   "execution_count": null,
   "id": "85f744c7-5dc1-4472-a7f0-0048dcea7041",
   "metadata": {},
   "outputs": [],
   "source": []
  },
  {
   "cell_type": "code",
   "execution_count": null,
   "id": "e35725db-cfd1-439d-bda4-59389b34662a",
   "metadata": {},
   "outputs": [],
   "source": []
  },
  {
   "cell_type": "code",
   "execution_count": null,
   "id": "5d6c2ba4-0a40-4ea2-b49f-761e4ffad5fc",
   "metadata": {},
   "outputs": [],
   "source": []
  },
  {
   "cell_type": "code",
   "execution_count": null,
   "id": "ec9db266-268d-4edc-9610-71422c487d92",
   "metadata": {},
   "outputs": [],
   "source": []
  },
  {
   "cell_type": "code",
   "execution_count": null,
   "id": "370f9176-966a-4340-9322-e8d479c19a4a",
   "metadata": {},
   "outputs": [],
   "source": []
  },
  {
   "cell_type": "code",
   "execution_count": null,
   "id": "89cf6d8e-8fb6-4fae-88e5-261545e548a6",
   "metadata": {},
   "outputs": [],
   "source": []
  },
  {
   "cell_type": "markdown",
   "id": "765f4e26-3919-474f-baf8-db2dfcedc626",
   "metadata": {},
   "source": [
    "At the bottom of your notebook, you should include a cell with two-three paragraphs summarizing the conclusions of your project."
   ]
  }
 ],
 "metadata": {
  "kernelspec": {
   "display_name": "Python 3 (ipykernel)",
   "language": "python",
   "name": "python3"
  },
  "language_info": {
   "codemirror_mode": {
    "name": "ipython",
    "version": 3
   },
   "file_extension": ".py",
   "mimetype": "text/x-python",
   "name": "python",
   "nbconvert_exporter": "python",
   "pygments_lexer": "ipython3",
   "version": "3.13.2"
  }
 },
 "nbformat": 4,
 "nbformat_minor": 5
}
