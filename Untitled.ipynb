{
 "cells": [
  {
   "cell_type": "code",
   "execution_count": 2,
   "id": "9c277066-3371-4867-ad0f-03cca937cb78",
   "metadata": {},
   "outputs": [],
   "source": [
    "import pandas as pd\n",
    "\n",
    "# Load the original CSV\n",
    "df = pd.read_csv(\".\\\\datasets\\\\chexpertchestxrays-u20210408\\\\train_visualCheXbert_SMALL.csv\")\n",
    "\n",
    "# Define the desired column order\n",
    "new_order = [\n",
    "    \"Path\", \"Sex\", \"Age\", \"Frontal/Lateral\", \"AP/PA\", \"No Finding\",\n",
    "    \"Enlarged Cardiomediastinum\", \"Cardiomegaly\", \"Lung Opacity\", \"Lung Lesion\",\n",
    "    \"Edema\", \"Consolidation\", \"Pneumonia\", \"Atelectasis\", \"Pneumothorax\",\n",
    "    \"Pleural Effusion\", \"Pleural Other\", \"Fracture\", \"Support Devices\"\n",
    "]\n",
    "\n",
    "# Reorder the columns\n",
    "df = df[new_order]\n",
    "\n",
    "# Save the reordered DataFrame back to CSV (optional)\n",
    "df.to_csv(\".\\\\datasets\\\\chexpertchestxrays-u20210408\\\\new_train_visualCheXbert_SMALL.csv\", index=False)\n"
   ]
  }
 ],
 "metadata": {
  "kernelspec": {
   "display_name": "Python 3 (ipykernel)",
   "language": "python",
   "name": "python3"
  },
  "language_info": {
   "codemirror_mode": {
    "name": "ipython",
    "version": 3
   },
   "file_extension": ".py",
   "mimetype": "text/x-python",
   "name": "python",
   "nbconvert_exporter": "python",
   "pygments_lexer": "ipython3",
   "version": "3.13.2"
  }
 },
 "nbformat": 4,
 "nbformat_minor": 5
}
