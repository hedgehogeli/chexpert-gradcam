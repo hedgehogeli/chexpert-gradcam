{
 "cells": [
  {
   "cell_type": "markdown",
   "id": "ae439649-f646-4363-9fdb-16a79b8ff75d",
   "metadata": {},
   "source": [
    "just standard gradcam i guess\n",
    "\n",
    "next sticking in some bounding boxing\n"
   ]
  },
  {
   "cell_type": "code",
   "execution_count": null,
   "id": "b7317e80-c285-4e5f-be04-a96466ce2579",
   "metadata": {},
   "outputs": [],
   "source": [
    "import torch\n",
    "import torch.nn.functional as F\n",
    "from torchvision import models, transforms\n",
    "from PIL import Image\n",
    "import numpy as np\n",
    "import cv2\n",
    "import matplotlib.pyplot as plt"
   ]
  },
  {
   "cell_type": "code",
   "execution_count": 8,
   "id": "230248b7-1504-403e-bf1c-c2e8a4385658",
   "metadata": {},
   "outputs": [
    {
     "name": "stderr",
     "output_type": "stream",
     "text": [
      "C:\\Users\\hedge\\.conda\\envs\\myenv\\Lib\\site-packages\\torchvision\\models\\_utils.py:223: UserWarning: Arguments other than a weight enum or `None` for 'weights' are deprecated since 0.13 and may be removed in the future. The current behavior is equivalent to passing `weights=ResNet50_Weights.IMAGENET1K_V1`. You can also use `weights=ResNet50_Weights.DEFAULT` to get the most up-to-date weights.\n",
      "  warnings.warn(msg)\n",
      "Downloading: \"https://download.pytorch.org/models/resnet50-0676ba61.pth\" to C:\\Users\\hedge/.cache\\torch\\hub\\checkpoints\\resnet50-0676ba61.pth\n",
      "100.0%\n"
     ]
    }
   ],
   "source": [
    "# --- Load pre-trained model ---\n",
    "model = models.resnet50(pretrained=True)\n",
    "model.eval()\n",
    "\n",
    "# --- Target layer for Grad-CAM ---\n",
    "# target_layer = model.features[-1]  # last conv layer of VGG16\n",
    "target_layer = model.layer4[-1]\n",
    "\n",
    "# --- Image pre-processing ---\n",
    "preprocess = transforms.Compose([\n",
    "    transforms.Resize((224, 224)),\n",
    "    transforms.ToTensor(),\n",
    "    transforms.Normalize(\n",
    "        mean=[0.485, 0.456, 0.406], \n",
    "        std=[0.229, 0.224, 0.225]\n",
    "    )\n",
    "])\n"
   ]
  },
  {
   "cell_type": "code",
   "execution_count": 9,
   "id": "46572435-d050-4e40-9b6a-ad083d3fceb5",
   "metadata": {},
   "outputs": [
    {
     "data": {
      "text/plain": [
       "<torch.utils.hooks.RemovableHandle at 0x229fa0b67b0>"
      ]
     },
     "execution_count": 9,
     "metadata": {},
     "output_type": "execute_result"
    }
   ],
   "source": [
    "def load_image(img_path):\n",
    "    img = Image.open(img_path).convert('RGB')\n",
    "    img_tensor = preprocess(img).unsqueeze(0)\n",
    "    return img_tensor, np.array(img)\n",
    "\n",
    "# --- Hook functions to capture activations and gradients ---\n",
    "activations = None\n",
    "gradients = None\n",
    "\n",
    "def forward_hook(module, input, output):\n",
    "    global activations\n",
    "    activations = output.detach()\n",
    "\n",
    "def backward_hook(module, grad_input, grad_output):\n",
    "    global gradients\n",
    "    gradients = grad_output[0].detach()\n",
    "\n",
    "# --- Register hooks ---\n",
    "target_layer.register_forward_hook(forward_hook)\n",
    "target_layer.register_backward_hook(backward_hook)"
   ]
  },
  {
   "cell_type": "code",
   "execution_count": 10,
   "id": "c6f914f2-8868-4623-ae0b-bf423c44bb8e",
   "metadata": {},
   "outputs": [],
   "source": [
    "# --- Grad-CAM function ---\n",
    "def grad_cam(model, input_tensor, class_idx=None):\n",
    "    global activations, gradients\n",
    "\n",
    "    # Forward pass\n",
    "    output = model(input_tensor)\n",
    "    if class_idx is None:\n",
    "        class_idx = torch.argmax(output)\n",
    "\n",
    "    # Backward pass\n",
    "    model.zero_grad()\n",
    "    output[0, class_idx].backward()\n",
    "\n",
    "    # Compute Grad-CAM\n",
    "    pooled_gradients = torch.mean(gradients, dim=[0, 2, 3])  # αᶜₖ\n",
    "    for i in range(activations.shape[1]):\n",
    "        activations[:, i, :, :] *= pooled_gradients[i]\n",
    "    \n",
    "    cam = torch.sum(activations, dim=1).squeeze()\n",
    "    cam = F.relu(cam)  # ReLU as described in the paper\n",
    "    cam = cam - cam.min()\n",
    "    cam = cam / cam.max()\n",
    "    cam = cam.numpy()\n",
    "    return cam\n",
    "\n",
    "# --- Visualize heatmap ---\n",
    "def overlay_heatmap(cam, original_image):\n",
    "    cam = cv2.resize(cam, (original_image.shape[1], original_image.shape[0]))\n",
    "    heatmap = cv2.applyColorMap(np.uint8(255 * cam), cv2.COLORMAP_JET)\n",
    "    overlay = heatmap * 0.4 + original_image * 0.6\n",
    "    return np.uint8(overlay)"
   ]
  },
  {
   "cell_type": "code",
   "execution_count": 14,
   "id": "49a635bb-d839-46b0-b5c1-b951c35d8c0e",
   "metadata": {},
   "outputs": [
    {
     "ename": "PermissionError",
     "evalue": "[Errno 13] Permission denied: 'C:\\\\Workspace\\\\Code\\\\cs484proj'",
     "output_type": "error",
     "traceback": [
      "\u001b[31m---------------------------------------------------------------------------\u001b[39m",
      "\u001b[31mPermissionError\u001b[39m                           Traceback (most recent call last)",
      "\u001b[36mCell\u001b[39m\u001b[36m \u001b[39m\u001b[32mIn[14]\u001b[39m\u001b[32m, line 3\u001b[39m\n\u001b[32m      1\u001b[39m \u001b[38;5;66;03m# --- Run example ---\u001b[39;00m\n\u001b[32m      2\u001b[39m img_path = \u001b[33m'\u001b[39m\u001b[33m'\u001b[39m\n\u001b[32m----> \u001b[39m\u001b[32m3\u001b[39m input_tensor, original_image = \u001b[43mload_image\u001b[49m\u001b[43m(\u001b[49m\u001b[43mimg_path\u001b[49m\u001b[43m)\u001b[49m\n\u001b[32m      4\u001b[39m cam = grad_cam(model, input_tensor)\n\u001b[32m      5\u001b[39m output_image = overlay_heatmap(cam, original_image)\n",
      "\u001b[36mCell\u001b[39m\u001b[36m \u001b[39m\u001b[32mIn[9]\u001b[39m\u001b[32m, line 2\u001b[39m, in \u001b[36mload_image\u001b[39m\u001b[34m(img_path)\u001b[39m\n\u001b[32m      1\u001b[39m \u001b[38;5;28;01mdef\u001b[39;00m\u001b[38;5;250m \u001b[39m\u001b[34mload_image\u001b[39m(img_path):\n\u001b[32m----> \u001b[39m\u001b[32m2\u001b[39m     img = \u001b[43mImage\u001b[49m\u001b[43m.\u001b[49m\u001b[43mopen\u001b[49m\u001b[43m(\u001b[49m\u001b[43mimg_path\u001b[49m\u001b[43m)\u001b[49m.convert(\u001b[33m'\u001b[39m\u001b[33mRGB\u001b[39m\u001b[33m'\u001b[39m)\n\u001b[32m      3\u001b[39m     img_tensor = preprocess(img).unsqueeze(\u001b[32m0\u001b[39m)\n\u001b[32m      4\u001b[39m     \u001b[38;5;28;01mreturn\u001b[39;00m img_tensor, np.array(img)\n",
      "\u001b[36mFile \u001b[39m\u001b[32m~\\.conda\\envs\\myenv\\Lib\\site-packages\\PIL\\Image.py:3469\u001b[39m, in \u001b[36mopen\u001b[39m\u001b[34m(fp, mode, formats)\u001b[39m\n\u001b[32m   3466\u001b[39m     filename = os.path.realpath(os.fspath(fp))\n\u001b[32m   3468\u001b[39m \u001b[38;5;28;01mif\u001b[39;00m filename:\n\u001b[32m-> \u001b[39m\u001b[32m3469\u001b[39m     fp = \u001b[43mbuiltins\u001b[49m\u001b[43m.\u001b[49m\u001b[43mopen\u001b[49m\u001b[43m(\u001b[49m\u001b[43mfilename\u001b[49m\u001b[43m,\u001b[49m\u001b[43m \u001b[49m\u001b[33;43m\"\u001b[39;49m\u001b[33;43mrb\u001b[39;49m\u001b[33;43m\"\u001b[39;49m\u001b[43m)\u001b[49m\n\u001b[32m   3470\u001b[39m     exclusive_fp = \u001b[38;5;28;01mTrue\u001b[39;00m\n\u001b[32m   3471\u001b[39m \u001b[38;5;28;01melse\u001b[39;00m:\n",
      "\u001b[31mPermissionError\u001b[39m: [Errno 13] Permission denied: 'C:\\\\Workspace\\\\Code\\\\cs484proj'"
     ]
    }
   ],
   "source": [
    "\n",
    "# --- Run example ---\n",
    "img_path = ''\n",
    "input_tensor, original_image = load_image(img_path)\n",
    "cam = grad_cam(model, input_tensor)\n",
    "output_image = overlay_heatmap(cam, original_image)\n",
    "\n",
    "plt.imshow(output_image[..., ::-1])  # Convert BGR to RGB\n",
    "plt.axis('off')\n",
    "plt.title(\"Grad-CAM Visualization\")\n",
    "plt.show()\n"
   ]
  }
 ],
 "metadata": {
  "kernelspec": {
   "display_name": "Python 3 (ipykernel)",
   "language": "python",
   "name": "python3"
  },
  "language_info": {
   "codemirror_mode": {
    "name": "ipython",
    "version": 3
   },
   "file_extension": ".py",
   "mimetype": "text/x-python",
   "name": "python",
   "nbconvert_exporter": "python",
   "pygments_lexer": "ipython3",
   "version": "3.13.2"
  }
 },
 "nbformat": 4,
 "nbformat_minor": 5
}
